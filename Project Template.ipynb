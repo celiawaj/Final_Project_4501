{
 "cells": [
  {
   "cell_type": "markdown",
   "id": "d4c5a136-e872-4846-9965-9ddc5251a0b3",
   "metadata": {},
   "source": [
    "# NYC Apartment Search\n",
    "\n",
    "_[Project prompt](https://docs.google.com/document/d/1BYVyFBDcTywdUlanH0ysfOrNWPgl7UkqXA7NeewTzxA/edit#heading=h.bpxu7uvknnbk)_\n",
    "\n",
    "_This scaffolding notebook may be used to help setup your final project. It's **totally optional** whether you make use of this or not._\n",
    "\n",
    "_If you do use this notebook, everything provided is optional as well - you may remove or add code as you wish._\n",
    "\n",
    "_**All code below should be consider \"pseudo-code\" - not functional by itself, and only an idea of a possible approach.**_"
   ]
  },
  {
   "cell_type": "markdown",
   "id": "bdf11fa0-4684-4f5e-8048-0f4cc5f4f243",
   "metadata": {},
   "source": [
    "## Setup"
   ]
  },
  {
   "cell_type": "code",
   "execution_count": 1,
   "id": "0f675d4b-794e-407c-aac9-b85c4a3975d2",
   "metadata": {},
   "outputs": [],
   "source": [
    "# All import statements needed for the project, for example:\n",
    "\n",
    "import json\n",
    "import pathlib\n",
    "import urllib.parse\n",
    "\n",
    "import geoalchemy2 as gdb\n",
    "import geopandas as gpd\n",
    "import matplotlib.pyplot as plt\n",
    "import pandas as pd\n",
    "import requests\n",
    "import shapely\n",
    "import sqlalchemy as db\n",
    "\n",
    "from sqlalchemy.orm import declarative_base"
   ]
  },
  {
   "cell_type": "code",
   "execution_count": 2,
   "id": "70a62277-51cf-48a2-81d2-9b2127088a7e",
   "metadata": {},
   "outputs": [],
   "source": [
    "# Any constants you might need; some have been added for you\n",
    "\n",
    "# Where data files will be read from/written to - this should already exist\n",
    "DATA_DIR = pathlib.Path(\"data\")\n",
    "ZIPCODE_DATA_FILE = DATA_DIR / \"zipcodes\" / \"nyc_zipcodes.shp\"\n",
    "ZILLOW_DATA_FILE = DATA_DIR / \"zillow_rent_data.csv\"\n",
    "\n",
    "NYC_DATA_APP_TOKEN = \"alMZBjkqoiGjUdoR8UIDOouaq\"\n",
    "BASE_NYC_DATA_URL = \"https://data.cityofnewyork.us/\"\n",
    "NYC_DATA_311 = \"resource/erm2-nwe9.geojson\"\n",
    "NYC_DATA_TREES = \"resource/5rq2-4hqu.geojson\"\n",
    "\n",
    "DB_NAME = \"Project_4501\"\n",
    "DB_USER = \"cc\"\n",
    "DB_URL = f\"postgres+psycopg2://{DB_USER}@localhost/{DB_NAME}\"\n",
    "DB_SCHEMA_FILE = \"schema.sql\"\n",
    "# directory where DB queries for Part 3 will be saved\n",
    "QUERY_DIR = pathlib.Path(\"queries\")"
   ]
  },
  {
   "cell_type": "code",
   "execution_count": 3,
   "id": "cd67cca9-ec72-44e3-83b8-b65f1ed5bb2f",
   "metadata": {},
   "outputs": [],
   "source": [
    "# Make sure the QUERY_DIRECTORY exists\n",
    "if not QUERY_DIR.exists():\n",
    "    QUERY_DIR.mkdir()"
   ]
  },
  {
   "cell_type": "markdown",
   "id": "52476a07-9bf2-4b7a-8cb7-93648bb4d303",
   "metadata": {},
   "source": [
    "## Part 1: Data Preprocessing"
   ]
  },
  {
   "cell_type": "code",
   "execution_count": 4,
   "id": "63b18f12-c0ce-4b9c-adc1-805703edc575",
   "metadata": {},
   "outputs": [],
   "source": [
    "def download_nyc_geojson_data(url, force=False, query=None):\n",
    "    \"\"\"\n",
    "    Download NYC GeoJSON data and save it to a local file.\n",
    "\n",
    "    Parameters:\n",
    "        url (str): The URL from which to download the data.\n",
    "        force (bool, optional): If True, force downloading even if the file exists locally. Defaults to False.\n",
    "        query (str, optional): A query string to filter the data during download. Defaults to None.\n",
    "\n",
    "    Returns:\n",
    "        pathlib.Path: The local path to the downloaded GeoJSON file.\n",
    "    \"\"\"\n",
    "    parsed_url = urllib.parse.urlparse(url)\n",
    "    url_path = parsed_url.path.strip(\"/\")\n",
    "    \n",
    "    filename = DATA_DIR / url_path\n",
    "    \n",
    "    if force or not filename.exists():\n",
    "        print(f\"Downloading {url} to {filename}...\")\n",
    "        \n",
    "        headers = {'X-App-Token': NYC_DATA_APP_TOKEN}\n",
    "        params = {\n",
    "        \"$limit\": 10000,\n",
    "        \"$offset\": 0,\n",
    "        \"$select\": \"*\",\n",
    "        \"$where\": query\n",
    "        }\n",
    "        response = requests.get(url, headers=headers, params=params)\n",
    "        \n",
    "        with open(filename, \"w\") as f:\n",
    "            json.dump(response.json(), f)\n",
    "        print(f\"Done downloading {url}.\")\n",
    "\n",
    "    else:\n",
    "        print(f\"Reading from {filename}...\")\n",
    "\n",
    "    return filename"
   ]
  },
  {
   "cell_type": "code",
   "execution_count": 5,
   "id": "ee245240-2fbb-45b8-9a92-4e2368f62c60",
   "metadata": {},
   "outputs": [],
   "source": [
    "def load_and_clean_zipcodes(zipcode_datafile):\n",
    "    \"\"\"\n",
    "    Load and clean zipcode data from a specified file.\n",
    "\n",
    "    This function reads geographic data of zipcodes from a given file,\n",
    "    converts the coordinate reference system to EPSG 4326, and selects specific columns.\n",
    "    It selects relevant columns, renames them, and removes rows with missing values.\n",
    "\n",
    "    Args:\n",
    "        zipcode_datafile (str): The file path of the zipcode data file.\n",
    "\n",
    "    Returns:\n",
    "        GeoDataFrame: A cleaned GeoDataFrame with selected information about zipcodes.\n",
    "    \"\"\"\n",
    "    zipcode_data = gpd.read_file(zipcode_datafile)\n",
    "    zipcode_data = zipcode_data.to_crs(epsg=4326)\n",
    "    zipcode_data = zipcode_data[['ZIPCODE', 'COUNTY', 'geometry']]\n",
    "    zipcode_data = zipcode_data.rename(columns = {'ZIPCODE': 'zipcode', 'COUNTY': 'county'})\n",
    "    zipcode_data = zipcode_data.dropna()\n",
    "    \n",
    "    return zipcode_data"
   ]
  },
  {
   "cell_type": "code",
   "execution_count": 6,
   "id": "eed2a5a9-1027-4c41-bbb5-039c32ce7e9b",
   "metadata": {},
   "outputs": [],
   "source": [
    "def download_and_clean_311_data():\n",
    "    \"\"\"\n",
    "    Download and clean New York City's 311 service request data for a specific date range.\n",
    "\n",
    "    The function filters data for requests made on from January 1, 2015 to September 30, 2023.\n",
    "    It selects relevant columns, renames them, and removes rows with missing values.\n",
    "\n",
    "    Returns:\n",
    "        GeoDataFrame: Cleaned data with selected information about 311 service requests.\n",
    "    \"\"\"\n",
    "    query_311 = \"created_date between '2023-09-30T12:00:00' and '2023-09-30T23:59:59'\"\n",
    "    nyc_311_data = download_nyc_geojson_data(f\"{BASE_NYC_DATA_URL}{NYC_DATA_311}\", force=True, query=query_311)\n",
    "    nyc_311_data = gpd.read_file(nyc_311_data)\n",
    "    nyc_311_data = nyc_311_data.to_crs(epsg=4326)\n",
    "    nyc_311_data = nyc_311_data[['unique_key', 'incident_zip', 'created_date', 'complaint_type', 'geometry']]\n",
    "    nyc_311_data = nyc_311_data.rename(columns = {'unique_key': 'id_311', 'incident_zip': 'zipcode', 'created_date': 'date'})\n",
    "    nyc_311_data = nyc_311_data.dropna()\n",
    "\n",
    "    return nyc_311_data"
   ]
  },
  {
   "cell_type": "code",
   "execution_count": 7,
   "id": "39c4b1bc-c841-4b87-8301-1dc2cafeccc7",
   "metadata": {},
   "outputs": [],
   "source": [
    "def download_and_clean_tree_data():\n",
    "    \"\"\"\n",
    "    Download and clean New York City tree data.\n",
    "\n",
    "    This function downloads NYC tree data in GeoJSON format from a NYC Open Data,\n",
    "    reads it into a GeoDataFrame, converts its coordinate reference system to EPSG 4326,\n",
    "    selects specific columns, renames some for clarity, and removes rows with missing values.\n",
    "\n",
    "    Returns:\n",
    "        gpd.GeoDataFrame: A GeoDataFrame containing the cleaned NYC tree data.\n",
    "                          The data includes columns like tree ID, zipcode, species,\n",
    "                          health, status, and geometry after renaming and dropping\n",
    "                          missing values.\n",
    "    \"\"\"\n",
    "    nyc_trees_data = download_nyc_geojson_data(f\"{BASE_NYC_DATA_URL}{NYC_DATA_TREES}\", force=True)\n",
    "    nyc_trees_data = gpd.read_file(nyc_trees_data)\n",
    "    nyc_trees_data = nyc_trees_data.to_crs(epsg=4326)\n",
    "    nyc_trees_data = nyc_trees_data[[\"tree_id\", \"zipcode\", \"spc_common\", \"health\", \"status\", \"geometry\"]]\n",
    "    nyc_trees_data = nyc_trees_data.rename(columns={\"tree_id\": \"id_tree\", \"spc_common\": \"species\"})\n",
    "    nyc_trees_data = nyc_trees_data.dropna()\n",
    "    \n",
    "    return nyc_trees_data"
   ]
  },
  {
   "cell_type": "code",
   "execution_count": 8,
   "id": "747ff49f-a18b-4fc0-8da6-6834a10d11ce",
   "metadata": {},
   "outputs": [],
   "source": [
    "def load_and_clean_zillow_data(): \n",
    "    \"\"\"\n",
    "    Load and clean Zillow rental data for New York City.\n",
    "\n",
    "    This function reads Zillow rental data from a CSV file, filters it for entries\n",
    "    pertaining to New York City, and selects specific columns relevant to rental\n",
    "    prices. The columns are then renamed for clarity, and rows with missing values\n",
    "    are removed to ensure the quality of data.\n",
    "\n",
    "    Returns:\n",
    "        DataFrame: A DataFrame containing cleaned Zillow rental data with columns for \n",
    "                   Zillow region ID, zipcode, and rental prices for August and September 2023.\n",
    "    \"\"\"\n",
    "    zillow_data = pd.read_csv(ZILLOW_DATA_FILE)\n",
    "    zillow_data = zillow_data[zillow_data[\"City\"]==\"New York\"]\n",
    "    zillow_data = zillow_data[[\"RegionID\", \"RegionName\", \"2023-08-31\", \"2023-09-30\"]]\n",
    "    zillow_data = zillow_data.rename(columns={\"RegionID\": \"id_zillow\", \"RegionName\": \"zipcode\", \"2023-08-31\": \"Aug_rent\", \"2023-09-30\": \"Sep_rent\"})\n",
    "    zillow_data = zillow_data.dropna()\n",
    "    \n",
    "    return zillow_data"
   ]
  },
  {
   "cell_type": "code",
   "execution_count": 9,
   "id": "345ebc2c-14f1-490c-9857-11f1e332e3bc",
   "metadata": {},
   "outputs": [],
   "source": [
    "def load_all_data():\n",
    "    \"\"\"\n",
    "    Load and combine multiple datasets into a single collection.\n",
    "\n",
    "    This function aggregates four different datasets: zipcode data, 311 service request data,\n",
    "    tree census data, and Zillow rental data, each of which is loaded and cleaned by their\n",
    "    respective functions. The datasets are primarily focused on New York City information.\n",
    "\n",
    "    Returns:\n",
    "        tuple: A tuple containing four cleaned datasets (GeoDataFrames and DataFrame).\n",
    "               These are: zipcode data, 311 service request data, tree census data,\n",
    "               and Zillow rental data.\n",
    "    \"\"\"\n",
    "    geodf_zipcode_data = load_and_clean_zipcodes(ZIPCODE_DATA_FILE)\n",
    "    geodf_311_data = download_and_clean_311_data()\n",
    "    geodf_tree_data = download_and_clean_tree_data()\n",
    "    df_zillow_data = load_and_clean_zillow_data()\n",
    "    \n",
    "    return (\n",
    "        geodf_zipcode_data,\n",
    "        geodf_311_data,\n",
    "        geodf_tree_data,\n",
    "        df_zillow_data\n",
    "    )"
   ]
  },
  {
   "cell_type": "code",
   "execution_count": 10,
   "id": "f2768bc8-4130-4298-be28-13d4b250a666",
   "metadata": {},
   "outputs": [
    {
     "name": "stdout",
     "output_type": "stream",
     "text": [
      "Downloading https://data.cityofnewyork.us/resource/erm2-nwe9.geojson to data\\resource\\erm2-nwe9.geojson...\n",
      "Done downloading https://data.cityofnewyork.us/resource/erm2-nwe9.geojson.\n",
      "Downloading https://data.cityofnewyork.us/resource/5rq2-4hqu.geojson to data\\resource\\5rq2-4hqu.geojson...\n",
      "Done downloading https://data.cityofnewyork.us/resource/5rq2-4hqu.geojson.\n"
     ]
    }
   ],
   "source": [
    "geodf_zipcode_data, geodf_311_data, geodf_tree_data, df_zillow_data = load_all_data()"
   ]
  },
  {
   "cell_type": "code",
   "execution_count": 11,
   "id": "23ad8bbc-bf91-457e-97db-a945fabeee29",
   "metadata": {},
   "outputs": [
    {
     "name": "stdout",
     "output_type": "stream",
     "text": [
      "<class 'geopandas.geodataframe.GeoDataFrame'>\n",
      "RangeIndex: 263 entries, 0 to 262\n",
      "Data columns (total 3 columns):\n",
      " #   Column    Non-Null Count  Dtype   \n",
      "---  ------    --------------  -----   \n",
      " 0   zipcode   263 non-null    object  \n",
      " 1   county    263 non-null    object  \n",
      " 2   geometry  263 non-null    geometry\n",
      "dtypes: geometry(1), object(2)\n",
      "memory usage: 6.3+ KB\n"
     ]
    }
   ],
   "source": [
    "# Show basic info about each dataframe\n",
    "geodf_zipcode_data.info()"
   ]
  },
  {
   "cell_type": "code",
   "execution_count": 12,
   "id": "ec68f4be-f365-46c1-91a1-ab75deb75ff4",
   "metadata": {},
   "outputs": [
    {
     "data": {
      "text/html": [
       "<div>\n",
       "<style scoped>\n",
       "    .dataframe tbody tr th:only-of-type {\n",
       "        vertical-align: middle;\n",
       "    }\n",
       "\n",
       "    .dataframe tbody tr th {\n",
       "        vertical-align: top;\n",
       "    }\n",
       "\n",
       "    .dataframe thead th {\n",
       "        text-align: right;\n",
       "    }\n",
       "</style>\n",
       "<table border=\"1\" class=\"dataframe\">\n",
       "  <thead>\n",
       "    <tr style=\"text-align: right;\">\n",
       "      <th></th>\n",
       "      <th>zipcode</th>\n",
       "      <th>county</th>\n",
       "      <th>geometry</th>\n",
       "    </tr>\n",
       "  </thead>\n",
       "  <tbody>\n",
       "    <tr>\n",
       "      <th>0</th>\n",
       "      <td>11436</td>\n",
       "      <td>Queens</td>\n",
       "      <td>POLYGON ((-73.80585 40.68291, -73.80569 40.682...</td>\n",
       "    </tr>\n",
       "    <tr>\n",
       "      <th>1</th>\n",
       "      <td>11213</td>\n",
       "      <td>Kings</td>\n",
       "      <td>POLYGON ((-73.93740 40.67973, -73.93487 40.679...</td>\n",
       "    </tr>\n",
       "    <tr>\n",
       "      <th>2</th>\n",
       "      <td>11212</td>\n",
       "      <td>Kings</td>\n",
       "      <td>POLYGON ((-73.90294 40.67084, -73.90223 40.668...</td>\n",
       "    </tr>\n",
       "    <tr>\n",
       "      <th>3</th>\n",
       "      <td>11225</td>\n",
       "      <td>Kings</td>\n",
       "      <td>POLYGON ((-73.95797 40.67066, -73.95576 40.670...</td>\n",
       "    </tr>\n",
       "    <tr>\n",
       "      <th>4</th>\n",
       "      <td>11218</td>\n",
       "      <td>Kings</td>\n",
       "      <td>POLYGON ((-73.97208 40.65060, -73.97192 40.650...</td>\n",
       "    </tr>\n",
       "  </tbody>\n",
       "</table>\n",
       "</div>"
      ],
      "text/plain": [
       "  zipcode  county                                           geometry\n",
       "0   11436  Queens  POLYGON ((-73.80585 40.68291, -73.80569 40.682...\n",
       "1   11213   Kings  POLYGON ((-73.93740 40.67973, -73.93487 40.679...\n",
       "2   11212   Kings  POLYGON ((-73.90294 40.67084, -73.90223 40.668...\n",
       "3   11225   Kings  POLYGON ((-73.95797 40.67066, -73.95576 40.670...\n",
       "4   11218   Kings  POLYGON ((-73.97208 40.65060, -73.97192 40.650..."
      ]
     },
     "execution_count": 12,
     "metadata": {},
     "output_type": "execute_result"
    }
   ],
   "source": [
    "# Show first 5 entries about each dataframe\n",
    "geodf_zipcode_data.head()"
   ]
  },
  {
   "cell_type": "code",
   "execution_count": 13,
   "id": "6a803b68-2f07-44b8-8b24-d4f16c9e03fe",
   "metadata": {},
   "outputs": [
    {
     "name": "stdout",
     "output_type": "stream",
     "text": [
      "<class 'geopandas.geodataframe.GeoDataFrame'>\n",
      "Int64Index: 6599 entries, 0 to 6687\n",
      "Data columns (total 5 columns):\n",
      " #   Column          Non-Null Count  Dtype         \n",
      "---  ------          --------------  -----         \n",
      " 0   id_311          6599 non-null   object        \n",
      " 1   zipcode         6599 non-null   object        \n",
      " 2   date            6599 non-null   datetime64[ns]\n",
      " 3   complaint_type  6599 non-null   object        \n",
      " 4   geometry        6599 non-null   geometry      \n",
      "dtypes: datetime64[ns](1), geometry(1), object(3)\n",
      "memory usage: 309.3+ KB\n"
     ]
    }
   ],
   "source": [
    "geodf_311_data.info()"
   ]
  },
  {
   "cell_type": "code",
   "execution_count": 14,
   "id": "14705df9-ea77-4d57-ac8e-1845f80a216d",
   "metadata": {},
   "outputs": [
    {
     "data": {
      "text/html": [
       "<div>\n",
       "<style scoped>\n",
       "    .dataframe tbody tr th:only-of-type {\n",
       "        vertical-align: middle;\n",
       "    }\n",
       "\n",
       "    .dataframe tbody tr th {\n",
       "        vertical-align: top;\n",
       "    }\n",
       "\n",
       "    .dataframe thead th {\n",
       "        text-align: right;\n",
       "    }\n",
       "</style>\n",
       "<table border=\"1\" class=\"dataframe\">\n",
       "  <thead>\n",
       "    <tr style=\"text-align: right;\">\n",
       "      <th></th>\n",
       "      <th>id_311</th>\n",
       "      <th>zipcode</th>\n",
       "      <th>date</th>\n",
       "      <th>complaint_type</th>\n",
       "      <th>geometry</th>\n",
       "    </tr>\n",
       "  </thead>\n",
       "  <tbody>\n",
       "    <tr>\n",
       "      <th>0</th>\n",
       "      <td>58974915</td>\n",
       "      <td>11226</td>\n",
       "      <td>2023-09-30 23:59:58</td>\n",
       "      <td>Noise - Street/Sidewalk</td>\n",
       "      <td>POINT (-73.95918 40.65567)</td>\n",
       "    </tr>\n",
       "    <tr>\n",
       "      <th>1</th>\n",
       "      <td>58972386</td>\n",
       "      <td>11361</td>\n",
       "      <td>2023-09-30 23:59:38</td>\n",
       "      <td>Noise - Residential</td>\n",
       "      <td>POINT (-73.78752 40.76676)</td>\n",
       "    </tr>\n",
       "    <tr>\n",
       "      <th>2</th>\n",
       "      <td>58973465</td>\n",
       "      <td>10002</td>\n",
       "      <td>2023-09-30 23:59:35</td>\n",
       "      <td>Noise - Commercial</td>\n",
       "      <td>POINT (-73.98487 40.71950)</td>\n",
       "    </tr>\n",
       "    <tr>\n",
       "      <th>3</th>\n",
       "      <td>58974769</td>\n",
       "      <td>11435</td>\n",
       "      <td>2023-09-30 23:59:34</td>\n",
       "      <td>Noise - Residential</td>\n",
       "      <td>POINT (-73.79729 40.68750)</td>\n",
       "    </tr>\n",
       "    <tr>\n",
       "      <th>4</th>\n",
       "      <td>58968700</td>\n",
       "      <td>11226</td>\n",
       "      <td>2023-09-30 23:59:28</td>\n",
       "      <td>Noise - Residential</td>\n",
       "      <td>POINT (-73.95795 40.65220)</td>\n",
       "    </tr>\n",
       "  </tbody>\n",
       "</table>\n",
       "</div>"
      ],
      "text/plain": [
       "     id_311 zipcode                date           complaint_type  \\\n",
       "0  58974915   11226 2023-09-30 23:59:58  Noise - Street/Sidewalk   \n",
       "1  58972386   11361 2023-09-30 23:59:38      Noise - Residential   \n",
       "2  58973465   10002 2023-09-30 23:59:35       Noise - Commercial   \n",
       "3  58974769   11435 2023-09-30 23:59:34      Noise - Residential   \n",
       "4  58968700   11226 2023-09-30 23:59:28      Noise - Residential   \n",
       "\n",
       "                     geometry  \n",
       "0  POINT (-73.95918 40.65567)  \n",
       "1  POINT (-73.78752 40.76676)  \n",
       "2  POINT (-73.98487 40.71950)  \n",
       "3  POINT (-73.79729 40.68750)  \n",
       "4  POINT (-73.95795 40.65220)  "
      ]
     },
     "execution_count": 14,
     "metadata": {},
     "output_type": "execute_result"
    }
   ],
   "source": [
    "geodf_311_data.head()"
   ]
  },
  {
   "cell_type": "code",
   "execution_count": 15,
   "id": "e6006cd2-3a00-4660-8d2a-a660b9bfd91e",
   "metadata": {},
   "outputs": [
    {
     "name": "stdout",
     "output_type": "stream",
     "text": [
      "<class 'geopandas.geodataframe.GeoDataFrame'>\n",
      "Int64Index: 9415 entries, 0 to 9999\n",
      "Data columns (total 6 columns):\n",
      " #   Column    Non-Null Count  Dtype   \n",
      "---  ------    --------------  -----   \n",
      " 0   id_tree   9415 non-null   object  \n",
      " 1   zipcode   9415 non-null   object  \n",
      " 2   species   9415 non-null   object  \n",
      " 3   health    9415 non-null   object  \n",
      " 4   status    9415 non-null   object  \n",
      " 5   geometry  9415 non-null   geometry\n",
      "dtypes: geometry(1), object(5)\n",
      "memory usage: 514.9+ KB\n"
     ]
    }
   ],
   "source": [
    "geodf_tree_data.info()"
   ]
  },
  {
   "cell_type": "code",
   "execution_count": 16,
   "id": "07f880ef-c5fc-4159-8174-21ccd44f492d",
   "metadata": {},
   "outputs": [
    {
     "data": {
      "text/html": [
       "<div>\n",
       "<style scoped>\n",
       "    .dataframe tbody tr th:only-of-type {\n",
       "        vertical-align: middle;\n",
       "    }\n",
       "\n",
       "    .dataframe tbody tr th {\n",
       "        vertical-align: top;\n",
       "    }\n",
       "\n",
       "    .dataframe thead th {\n",
       "        text-align: right;\n",
       "    }\n",
       "</style>\n",
       "<table border=\"1\" class=\"dataframe\">\n",
       "  <thead>\n",
       "    <tr style=\"text-align: right;\">\n",
       "      <th></th>\n",
       "      <th>id_tree</th>\n",
       "      <th>zipcode</th>\n",
       "      <th>species</th>\n",
       "      <th>health</th>\n",
       "      <th>status</th>\n",
       "      <th>geometry</th>\n",
       "    </tr>\n",
       "  </thead>\n",
       "  <tbody>\n",
       "    <tr>\n",
       "      <th>0</th>\n",
       "      <td>180683</td>\n",
       "      <td>11375</td>\n",
       "      <td>red maple</td>\n",
       "      <td>Fair</td>\n",
       "      <td>Alive</td>\n",
       "      <td>POINT (-73.84422 40.72309)</td>\n",
       "    </tr>\n",
       "    <tr>\n",
       "      <th>1</th>\n",
       "      <td>200540</td>\n",
       "      <td>11357</td>\n",
       "      <td>pin oak</td>\n",
       "      <td>Fair</td>\n",
       "      <td>Alive</td>\n",
       "      <td>POINT (-73.81868 40.79411)</td>\n",
       "    </tr>\n",
       "    <tr>\n",
       "      <th>2</th>\n",
       "      <td>204026</td>\n",
       "      <td>11211</td>\n",
       "      <td>honeylocust</td>\n",
       "      <td>Good</td>\n",
       "      <td>Alive</td>\n",
       "      <td>POINT (-73.93661 40.71758)</td>\n",
       "    </tr>\n",
       "    <tr>\n",
       "      <th>3</th>\n",
       "      <td>204337</td>\n",
       "      <td>11211</td>\n",
       "      <td>honeylocust</td>\n",
       "      <td>Good</td>\n",
       "      <td>Alive</td>\n",
       "      <td>POINT (-73.93446 40.71354)</td>\n",
       "    </tr>\n",
       "    <tr>\n",
       "      <th>4</th>\n",
       "      <td>189565</td>\n",
       "      <td>11215</td>\n",
       "      <td>American linden</td>\n",
       "      <td>Good</td>\n",
       "      <td>Alive</td>\n",
       "      <td>POINT (-73.97598 40.66678)</td>\n",
       "    </tr>\n",
       "  </tbody>\n",
       "</table>\n",
       "</div>"
      ],
      "text/plain": [
       "  id_tree zipcode          species health status                    geometry\n",
       "0  180683   11375        red maple   Fair  Alive  POINT (-73.84422 40.72309)\n",
       "1  200540   11357          pin oak   Fair  Alive  POINT (-73.81868 40.79411)\n",
       "2  204026   11211      honeylocust   Good  Alive  POINT (-73.93661 40.71758)\n",
       "3  204337   11211      honeylocust   Good  Alive  POINT (-73.93446 40.71354)\n",
       "4  189565   11215  American linden   Good  Alive  POINT (-73.97598 40.66678)"
      ]
     },
     "execution_count": 16,
     "metadata": {},
     "output_type": "execute_result"
    }
   ],
   "source": [
    "geodf_tree_data.head()"
   ]
  },
  {
   "cell_type": "code",
   "execution_count": 17,
   "id": "59724f74-5f1e-435c-b843-f381a875dd4a",
   "metadata": {},
   "outputs": [
    {
     "name": "stdout",
     "output_type": "stream",
     "text": [
      "<class 'pandas.core.frame.DataFrame'>\n",
      "Int64Index: 138 entries, 4 to 6721\n",
      "Data columns (total 4 columns):\n",
      " #   Column     Non-Null Count  Dtype  \n",
      "---  ------     --------------  -----  \n",
      " 0   id_zillow  138 non-null    int64  \n",
      " 1   zipcode    138 non-null    int64  \n",
      " 2   Aug_rent   138 non-null    float64\n",
      " 3   Sep_rent   138 non-null    float64\n",
      "dtypes: float64(2), int64(2)\n",
      "memory usage: 5.4 KB\n"
     ]
    }
   ],
   "source": [
    "df_zillow_data.info()"
   ]
  },
  {
   "cell_type": "code",
   "execution_count": 18,
   "id": "e29ae5d9-9768-4590-a2f2-dd63b07dd712",
   "metadata": {},
   "outputs": [
    {
     "data": {
      "text/html": [
       "<div>\n",
       "<style scoped>\n",
       "    .dataframe tbody tr th:only-of-type {\n",
       "        vertical-align: middle;\n",
       "    }\n",
       "\n",
       "    .dataframe tbody tr th {\n",
       "        vertical-align: top;\n",
       "    }\n",
       "\n",
       "    .dataframe thead th {\n",
       "        text-align: right;\n",
       "    }\n",
       "</style>\n",
       "<table border=\"1\" class=\"dataframe\">\n",
       "  <thead>\n",
       "    <tr style=\"text-align: right;\">\n",
       "      <th></th>\n",
       "      <th>id_zillow</th>\n",
       "      <th>zipcode</th>\n",
       "      <th>Aug_rent</th>\n",
       "      <th>Sep_rent</th>\n",
       "    </tr>\n",
       "  </thead>\n",
       "  <tbody>\n",
       "    <tr>\n",
       "      <th>4</th>\n",
       "      <td>62093</td>\n",
       "      <td>11385</td>\n",
       "      <td>3064.476503</td>\n",
       "      <td>3079.585783</td>\n",
       "    </tr>\n",
       "    <tr>\n",
       "      <th>6</th>\n",
       "      <td>62019</td>\n",
       "      <td>11208</td>\n",
       "      <td>2737.547470</td>\n",
       "      <td>2728.733333</td>\n",
       "    </tr>\n",
       "    <tr>\n",
       "      <th>12</th>\n",
       "      <td>62046</td>\n",
       "      <td>11236</td>\n",
       "      <td>2285.460026</td>\n",
       "      <td>2362.500000</td>\n",
       "    </tr>\n",
       "    <tr>\n",
       "      <th>13</th>\n",
       "      <td>61807</td>\n",
       "      <td>10467</td>\n",
       "      <td>2353.686402</td>\n",
       "      <td>2423.888889</td>\n",
       "    </tr>\n",
       "    <tr>\n",
       "      <th>14</th>\n",
       "      <td>62085</td>\n",
       "      <td>11373</td>\n",
       "      <td>2302.557354</td>\n",
       "      <td>2292.994444</td>\n",
       "    </tr>\n",
       "  </tbody>\n",
       "</table>\n",
       "</div>"
      ],
      "text/plain": [
       "    id_zillow  zipcode     Aug_rent     Sep_rent\n",
       "4       62093    11385  3064.476503  3079.585783\n",
       "6       62019    11208  2737.547470  2728.733333\n",
       "12      62046    11236  2285.460026  2362.500000\n",
       "13      61807    10467  2353.686402  2423.888889\n",
       "14      62085    11373  2302.557354  2292.994444"
      ]
     },
     "execution_count": 18,
     "metadata": {},
     "output_type": "execute_result"
    }
   ],
   "source": [
    "df_zillow_data.head()"
   ]
  },
  {
   "cell_type": "markdown",
   "id": "e685942c-26dc-40db-84c2-a71aa3340806",
   "metadata": {},
   "source": [
    "## Part 2: Storing Data"
   ]
  },
  {
   "cell_type": "code",
   "execution_count": null,
   "id": "f349fbdd-67d0-40a4-97a0-d9b8c8ec8013",
   "metadata": {},
   "outputs": [],
   "source": [
    "def setup_new_postgis_database(username, db_name):\n",
    "    raise NotImplementedError()"
   ]
  },
  {
   "cell_type": "code",
   "execution_count": null,
   "id": "590ed80d-7b60-484f-a123-23b673b0f440",
   "metadata": {},
   "outputs": [],
   "source": [
    "setup_new_postgis_database(DB_USER, DB_NAME)"
   ]
  },
  {
   "cell_type": "markdown",
   "id": "527a251c-f337-4b24-bb41-96ee4621a9bd",
   "metadata": {},
   "source": [
    "### Creating Tables\n",
    "\n",
    "\n",
    "These are just a couple of options to creating your tables; you can use one or the other, a different method, or a combination."
   ]
  },
  {
   "cell_type": "code",
   "execution_count": 35,
   "id": "e3d72390-3c2d-4856-82c0-3284e8ccb24e",
   "metadata": {},
   "outputs": [
    {
     "ename": "NoSuchModuleError",
     "evalue": "Can't load plugin: sqlalchemy.dialects:postgres.psycopg2",
     "output_type": "error",
     "traceback": [
      "\u001b[1;31m---------------------------------------------------------------------------\u001b[0m",
      "\u001b[1;31mNoSuchModuleError\u001b[0m                         Traceback (most recent call last)",
      "\u001b[1;32mc:\\Users\\Lenovo\\OneDrive\\文档\\GitHub\\Final_Project_4501\\Project Template.ipynb Cell 26\u001b[0m line \u001b[0;36m1\n\u001b[1;32m----> <a href='vscode-notebook-cell:/c%3A/Users/Lenovo/OneDrive/%E6%96%87%E6%A1%A3/GitHub/Final_Project_4501/Project%20Template.ipynb#X34sZmlsZQ%3D%3D?line=0'>1</a>\u001b[0m engine \u001b[39m=\u001b[39m db\u001b[39m.\u001b[39mcreate_engine(DB_URL)\n",
      "File \u001b[1;32m<string>:2\u001b[0m, in \u001b[0;36mcreate_engine\u001b[1;34m(url, **kwargs)\u001b[0m\n",
      "File \u001b[1;32mc:\\Users\\Lenovo\\anaconda3\\Lib\\site-packages\\sqlalchemy\\util\\deprecations.py:309\u001b[0m, in \u001b[0;36mdeprecated_params.<locals>.decorate.<locals>.warned\u001b[1;34m(fn, *args, **kwargs)\u001b[0m\n\u001b[0;32m    302\u001b[0m     \u001b[39mif\u001b[39;00m m \u001b[39min\u001b[39;00m kwargs:\n\u001b[0;32m    303\u001b[0m         _warn_with_version(\n\u001b[0;32m    304\u001b[0m             messages[m],\n\u001b[0;32m    305\u001b[0m             versions[m],\n\u001b[0;32m    306\u001b[0m             version_warnings[m],\n\u001b[0;32m    307\u001b[0m             stacklevel\u001b[39m=\u001b[39m\u001b[39m3\u001b[39m,\n\u001b[0;32m    308\u001b[0m         )\n\u001b[1;32m--> 309\u001b[0m \u001b[39mreturn\u001b[39;00m fn(\u001b[39m*\u001b[39margs, \u001b[39m*\u001b[39m\u001b[39m*\u001b[39mkwargs)\n",
      "File \u001b[1;32mc:\\Users\\Lenovo\\anaconda3\\Lib\\site-packages\\sqlalchemy\\engine\\create.py:534\u001b[0m, in \u001b[0;36mcreate_engine\u001b[1;34m(url, **kwargs)\u001b[0m\n\u001b[0;32m    530\u001b[0m u \u001b[39m=\u001b[39m _url\u001b[39m.\u001b[39mmake_url(url)\n\u001b[0;32m    532\u001b[0m u, plugins, kwargs \u001b[39m=\u001b[39m u\u001b[39m.\u001b[39m_instantiate_plugins(kwargs)\n\u001b[1;32m--> 534\u001b[0m entrypoint \u001b[39m=\u001b[39m u\u001b[39m.\u001b[39m_get_entrypoint()\n\u001b[0;32m    535\u001b[0m dialect_cls \u001b[39m=\u001b[39m entrypoint\u001b[39m.\u001b[39mget_dialect_cls(u)\n\u001b[0;32m    537\u001b[0m \u001b[39mif\u001b[39;00m kwargs\u001b[39m.\u001b[39mpop(\u001b[39m\"\u001b[39m\u001b[39m_coerce_config\u001b[39m\u001b[39m\"\u001b[39m, \u001b[39mFalse\u001b[39;00m):\n",
      "File \u001b[1;32mc:\\Users\\Lenovo\\anaconda3\\Lib\\site-packages\\sqlalchemy\\engine\\url.py:655\u001b[0m, in \u001b[0;36mURL._get_entrypoint\u001b[1;34m(self)\u001b[0m\n\u001b[0;32m    653\u001b[0m \u001b[39melse\u001b[39;00m:\n\u001b[0;32m    654\u001b[0m     name \u001b[39m=\u001b[39m \u001b[39mself\u001b[39m\u001b[39m.\u001b[39mdrivername\u001b[39m.\u001b[39mreplace(\u001b[39m\"\u001b[39m\u001b[39m+\u001b[39m\u001b[39m\"\u001b[39m, \u001b[39m\"\u001b[39m\u001b[39m.\u001b[39m\u001b[39m\"\u001b[39m)\n\u001b[1;32m--> 655\u001b[0m \u001b[39mcls\u001b[39m \u001b[39m=\u001b[39m registry\u001b[39m.\u001b[39mload(name)\n\u001b[0;32m    656\u001b[0m \u001b[39m# check for legacy dialects that\u001b[39;00m\n\u001b[0;32m    657\u001b[0m \u001b[39m# would return a module with 'dialect' as the\u001b[39;00m\n\u001b[0;32m    658\u001b[0m \u001b[39m# actual class\u001b[39;00m\n\u001b[0;32m    659\u001b[0m \u001b[39mif\u001b[39;00m (\n\u001b[0;32m    660\u001b[0m     \u001b[39mhasattr\u001b[39m(\u001b[39mcls\u001b[39m, \u001b[39m\"\u001b[39m\u001b[39mdialect\u001b[39m\u001b[39m\"\u001b[39m)\n\u001b[0;32m    661\u001b[0m     \u001b[39mand\u001b[39;00m \u001b[39misinstance\u001b[39m(\u001b[39mcls\u001b[39m\u001b[39m.\u001b[39mdialect, \u001b[39mtype\u001b[39m)\n\u001b[0;32m    662\u001b[0m     \u001b[39mand\u001b[39;00m \u001b[39missubclass\u001b[39m(\u001b[39mcls\u001b[39m\u001b[39m.\u001b[39mdialect, Dialect)\n\u001b[0;32m    663\u001b[0m ):\n",
      "File \u001b[1;32mc:\\Users\\Lenovo\\anaconda3\\Lib\\site-packages\\sqlalchemy\\util\\langhelpers.py:343\u001b[0m, in \u001b[0;36mPluginLoader.load\u001b[1;34m(self, name)\u001b[0m\n\u001b[0;32m    340\u001b[0m         \u001b[39mself\u001b[39m\u001b[39m.\u001b[39mimpls[name] \u001b[39m=\u001b[39m impl\u001b[39m.\u001b[39mload\n\u001b[0;32m    341\u001b[0m         \u001b[39mreturn\u001b[39;00m impl\u001b[39m.\u001b[39mload()\n\u001b[1;32m--> 343\u001b[0m \u001b[39mraise\u001b[39;00m exc\u001b[39m.\u001b[39mNoSuchModuleError(\n\u001b[0;32m    344\u001b[0m     \u001b[39m\"\u001b[39m\u001b[39mCan\u001b[39m\u001b[39m'\u001b[39m\u001b[39mt load plugin: \u001b[39m\u001b[39m%s\u001b[39;00m\u001b[39m:\u001b[39m\u001b[39m%s\u001b[39;00m\u001b[39m\"\u001b[39m \u001b[39m%\u001b[39m (\u001b[39mself\u001b[39m\u001b[39m.\u001b[39mgroup, name)\n\u001b[0;32m    345\u001b[0m )\n",
      "\u001b[1;31mNoSuchModuleError\u001b[0m: Can't load plugin: sqlalchemy.dialects:postgres.psycopg2"
     ]
    }
   ],
   "source": [
    "engine = db.create_engine(DB_URL)"
   ]
  },
  {
   "cell_type": "markdown",
   "id": "2ac07405-dc2b-47af-9dad-6a9b94d2b34c",
   "metadata": {},
   "source": [
    "#### Option 1: SQL"
   ]
  },
  {
   "cell_type": "code",
   "execution_count": 34,
   "id": "490d0cc6-74b3-4d35-a454-57f647c9f8e3",
   "metadata": {},
   "outputs": [],
   "source": [
    "# if using SQL (as opposed to SQLAlchemy), define the SQL statements to create your 4 tables\n",
    "ZIPCODE_SCHEMA = \"\"\"\n",
    "CREATE TABLE zipcodes\n",
    "(\n",
    "    zipcode TEXT PRIMARY KEY,\n",
    "    county TEXT,\n",
    "    geometry GEOMETRY(Point)\n",
    ")\n",
    "\"\"\"\n",
    "\n",
    "NYC_311_SCHEMA = \"\"\"\n",
    "CREATE TABLE conplaints\n",
    "(\n",
    "    id INTEGER PRIMARY KEY,\n",
    "    zipcode TEXT,\n",
    "    date TIMESTAMP,\n",
    "    complaint_type TEXT,\n",
    "    geometry GEOMETRY(Point)\n",
    ")\n",
    "\"\"\"\n",
    "\n",
    "NYC_TREE_SCHEMA = \"\"\"\n",
    "CREATE TABLE trees\n",
    "(\n",
    "    id INTEGER PRIMARY KEY,\n",
    "    zipcode TEXT,\n",
    "    species TEXT,\n",
    "    health TEXT,\n",
    "    status TEXT,\n",
    "    geometry GEOMETRY(Point)\n",
    ")\n",
    "\"\"\"\n",
    "\n",
    "ZILLOW_SCHEMA = \"\"\"\n",
    "CREATE TABLE rents\n",
    "(\n",
    "    id INTEGER PRIMARY KEY,\n",
    "    zipcode TEXT,\n",
    "    aug_rent FLOAT,\n",
    "    sep_rent FLOAT\n",
    ")\n",
    "\"\"\""
   ]
  },
  {
   "cell_type": "code",
   "execution_count": 32,
   "id": "f36d86f6-ff6e-4bb8-8fa2-df0d4282e959",
   "metadata": {},
   "outputs": [],
   "source": [
    "# create that required schema.sql file\n",
    "with open(DB_SCHEMA_FILE, \"w\") as f:\n",
    "    f.write(ZIPCODE_SCHEMA)\n",
    "    f.write(NYC_311_SCHEMA)\n",
    "    f.write(NYC_TREE_SCHEMA)\n",
    "    f.write(ZILLOW_SCHEMA)"
   ]
  },
  {
   "cell_type": "code",
   "execution_count": 33,
   "id": "48eacd37-4fd7-4768-b689-88b07d5c234e",
   "metadata": {},
   "outputs": [
    {
     "ename": "NameError",
     "evalue": "name 'engine' is not defined",
     "output_type": "error",
     "traceback": [
      "\u001b[1;31m---------------------------------------------------------------------------\u001b[0m",
      "\u001b[1;31mNameError\u001b[0m                                 Traceback (most recent call last)",
      "\u001b[1;32mc:\\Users\\Lenovo\\OneDrive\\文档\\GitHub\\Final_Project_4501\\Project Template.ipynb Cell 30\u001b[0m line \u001b[0;36m2\n\u001b[0;32m      <a href='vscode-notebook-cell:/c%3A/Users/Lenovo/OneDrive/%E6%96%87%E6%A1%A3/GitHub/Final_Project_4501/Project%20Template.ipynb#X41sZmlsZQ%3D%3D?line=0'>1</a>\u001b[0m \u001b[39m# If using SQL (as opposed to SQLAlchemy), execute the schema files to create tables\u001b[39;00m\n\u001b[1;32m----> <a href='vscode-notebook-cell:/c%3A/Users/Lenovo/OneDrive/%E6%96%87%E6%A1%A3/GitHub/Final_Project_4501/Project%20Template.ipynb#X41sZmlsZQ%3D%3D?line=1'>2</a>\u001b[0m \u001b[39mwith\u001b[39;00m engine\u001b[39m.\u001b[39mconnect() \u001b[39mas\u001b[39;00m connection:\n\u001b[0;32m      <a href='vscode-notebook-cell:/c%3A/Users/Lenovo/OneDrive/%E6%96%87%E6%A1%A3/GitHub/Final_Project_4501/Project%20Template.ipynb#X41sZmlsZQ%3D%3D?line=2'>3</a>\u001b[0m     \u001b[39mpass\u001b[39;00m\n",
      "\u001b[1;31mNameError\u001b[0m: name 'engine' is not defined"
     ]
    }
   ],
   "source": [
    "# If using SQL (as opposed to SQLAlchemy), execute the schema files to create tables\n",
    "with engine.connect() as connection:\n",
    "    pass"
   ]
  },
  {
   "cell_type": "markdown",
   "id": "232a2d89-b276-4d44-a0ef-3631eb686e84",
   "metadata": {},
   "source": [
    "#### Option 2: SQLAlchemy"
   ]
  },
  {
   "cell_type": "code",
   "execution_count": null,
   "id": "d41c42e1-4ad4-4c43-a2ba-1dbcac1de557",
   "metadata": {},
   "outputs": [],
   "source": [
    "Base = declarative_base()\n",
    "\n",
    "class Tree(Base):\n",
    "    __tablename__ = \"trees\"\n",
    "\n",
    "    ...\n"
   ]
  },
  {
   "cell_type": "code",
   "execution_count": null,
   "id": "5b3a9c3d-e6d6-4e01-8247-e9d465381ce6",
   "metadata": {},
   "outputs": [],
   "source": [
    "Base.metadata.create_all(engine)"
   ]
  },
  {
   "cell_type": "markdown",
   "id": "2e88a50c-9528-4a5c-9a52-b96781ee8985",
   "metadata": {},
   "source": [
    "### Add Data to Database\n",
    "\n",
    "These are just a couple of options to write data to your tables; you can use one or the other, a different method, or a combination."
   ]
  },
  {
   "cell_type": "markdown",
   "id": "0c66af67-afb8-4f0d-bb57-552972f8e4b8",
   "metadata": {},
   "source": [
    "#### Option 1: SQL"
   ]
  },
  {
   "cell_type": "code",
   "execution_count": null,
   "id": "69e37800-cd95-44b5-9c21-eb7ac2b2e4ec",
   "metadata": {},
   "outputs": [],
   "source": [
    "def write_dataframes_to_table(tablename_to_dataframe):\n",
    "    # write INSERT statements or use pandas/geopandas to write SQL\n",
    "    raise NotImplemented()"
   ]
  },
  {
   "cell_type": "code",
   "execution_count": null,
   "id": "d1f042f5-8270-477d-929a-872f7d9a0bc8",
   "metadata": {},
   "outputs": [],
   "source": [
    "tablename_to_dataframe = {\n",
    "    \"zipcodes\": geodf_zipcode_data,\n",
    "    \"complaints\": geodf_311_data,\n",
    "    \"trees\": geodf_tree_data,\n",
    "    \"rents\": df_zillow_data,\n",
    "}"
   ]
  },
  {
   "cell_type": "code",
   "execution_count": null,
   "id": "9d052c50-1e43-4356-bcac-4f5abc7e714b",
   "metadata": {},
   "outputs": [],
   "source": [
    "write_dataframes_to_table(tablename_to_dataframe)"
   ]
  },
  {
   "cell_type": "markdown",
   "id": "e4708cb4-d034-43b6-955b-a21d0eab74d4",
   "metadata": {},
   "source": [
    "#### Option 2: SQLAlchemy"
   ]
  },
  {
   "cell_type": "code",
   "execution_count": null,
   "id": "210ddbad-3b11-47a2-9245-935f482fa7ea",
   "metadata": {},
   "outputs": [],
   "source": [
    "Session = db.orm.sessionmaker(bind=engine)\n",
    "session = Session()"
   ]
  },
  {
   "cell_type": "code",
   "execution_count": null,
   "id": "3f2b21c6-59d9-4bae-8c33-ab4b49ff2b3a",
   "metadata": {},
   "outputs": [],
   "source": [
    "for row in geodf_tree_data.iterrows():\n",
    "    tree = Tree(...)\n",
    "    session.add(tree)"
   ]
  },
  {
   "cell_type": "code",
   "execution_count": null,
   "id": "83e4bfb9-4fbc-45fe-8a98-a760a22234f8",
   "metadata": {},
   "outputs": [],
   "source": [
    "session.commit()"
   ]
  },
  {
   "cell_type": "markdown",
   "id": "eb63b553-0c64-4da8-9fc7-41555d89d853",
   "metadata": {},
   "source": [
    "## Part 3: Understanding the Data"
   ]
  },
  {
   "cell_type": "markdown",
   "id": "7ac7e12b-e251-4f08-8dc5-601db30c2089",
   "metadata": {},
   "source": [
    "### Query 1"
   ]
  },
  {
   "cell_type": "code",
   "execution_count": null,
   "id": "d6ce8548-4aba-4bf9-992c-dedd0f249db4",
   "metadata": {},
   "outputs": [],
   "source": [
    "# Helper function to write the queries to file\n",
    "def write_query_to_file(query, outfile):\n",
    "    raise NotImplementedError()"
   ]
  },
  {
   "cell_type": "code",
   "execution_count": null,
   "id": "6605e6f3-ec42-4a8b-833c-5138c14b678b",
   "metadata": {},
   "outputs": [],
   "source": [
    "QUERY_1_FILENAME = QUERY_DIR / \"FILL_ME_IN\"\n",
    "\n",
    "QUERY_1 = \"\"\"\n",
    "FILL_ME_IN\n",
    "\"\"\""
   ]
  },
  {
   "cell_type": "code",
   "execution_count": null,
   "id": "ce044adf-ecdf-4237-9b20-b7cdaaab0c6c",
   "metadata": {},
   "outputs": [],
   "source": [
    "with engine.connect() as conn:\n",
    "    result = conn.execute(db.text(QUERY_1))\n",
    "    for row in result:\n",
    "        print(row)"
   ]
  },
  {
   "cell_type": "code",
   "execution_count": null,
   "id": "4b7b2c3d-8961-4c7e-8eb1-fc973d0ab9c1",
   "metadata": {},
   "outputs": [],
   "source": [
    "write_query_to_file(QUERY_1, QUERY_1_FILENAME)"
   ]
  },
  {
   "cell_type": "markdown",
   "id": "75223ce5-6ab5-4613-b6af-fa8e33bcc7d5",
   "metadata": {},
   "source": [
    "## Part 4: Visualizing the Data"
   ]
  },
  {
   "cell_type": "markdown",
   "id": "b21fcfed-ddbb-4908-a60e-ed7cbc6d5b00",
   "metadata": {},
   "source": [
    "### Visualization 1"
   ]
  },
  {
   "cell_type": "code",
   "execution_count": null,
   "id": "6f0e2cde-e43b-407b-ab93-ff85a2dba469",
   "metadata": {},
   "outputs": [],
   "source": [
    "# use a more descriptive name for your function\n",
    "def plot_visual_1(dataframe):\n",
    "    figure, axes = plt.subplots(figsize=(20, 10))\n",
    "    \n",
    "    values = \"...\"  # use the dataframe to pull out values needed to plot\n",
    "    \n",
    "    # you may want to use matplotlib to plot your visualizations;\n",
    "    # there are also many other plot types (other \n",
    "    # than axes.plot) you can use\n",
    "    axes.plot(values, \"...\")\n",
    "    # there are other methods to use to label your axes, to style \n",
    "    # and set up axes labels, etc\n",
    "    axes.set_title(\"Some Descriptive Title\")\n",
    "    \n",
    "    plt.show()"
   ]
  },
  {
   "cell_type": "code",
   "execution_count": null,
   "id": "ed80755f-d1e1-4e53-8ef8-f5295c59a3fe",
   "metadata": {},
   "outputs": [],
   "source": [
    "def get_data_for_visual_1():\n",
    "    # Query your database for the data needed.\n",
    "    # You can put the data queried into a pandas/geopandas dataframe, if you wish\n",
    "    raise NotImplementedError()"
   ]
  },
  {
   "cell_type": "code",
   "execution_count": null,
   "id": "f6a2632a-b516-4a6e-8b67-97116ab6fce4",
   "metadata": {},
   "outputs": [],
   "source": [
    "some_dataframe = get_data_for_visual_1()\n",
    "plot_visual_1(some_dataframe)"
   ]
  }
 ],
 "metadata": {
  "kernelspec": {
   "display_name": "Python 3 (ipykernel)",
   "language": "python",
   "name": "python3"
  },
  "language_info": {
   "codemirror_mode": {
    "name": "ipython",
    "version": 3
   },
   "file_extension": ".py",
   "mimetype": "text/x-python",
   "name": "python",
   "nbconvert_exporter": "python",
   "pygments_lexer": "ipython3",
   "version": "3.11.4"
  }
 },
 "nbformat": 4,
 "nbformat_minor": 5
}
